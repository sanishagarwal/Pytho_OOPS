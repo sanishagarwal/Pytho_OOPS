{
 "cells": [
  {
   "cell_type": "markdown",
   "metadata": {},
   "source": [
    "# __*Python Object-Oriented Programming (OOP)*__"
   ]
  },
  {
   "cell_type": "markdown",
   "metadata": {},
   "source": [
    "## 1. What are the five key concepts of Object-Oriented Programming (OOP)?"
   ]
  },
  {
   "cell_type": "markdown",
   "metadata": {},
   "source": [
    "*The FIVE key concepts of Object-Oriented Programming (OOP) are:*\n",
    "\n",
    "1. Class and Object:       \n",
    "        A class serves as a blueprint for creating objects, which are instances of that class. It defines the properties (attributes) and behaviors (methods) that the objects will have. Objects represent real-world entities and are created based on the structure outlined in the class.\n",
    "\n",
    "2. Encapsulation:     \n",
    "    Encapsulation refers to bundling data (attributes) and methods (functions) into a single unit, typically a class, and restricting access to the internal workings of that object. By controlling access to certain parts, encapsulation protects an object's integrity and ensures that data is used in a controlled manner.\n",
    "\n",
    "3. Inheritance:      \n",
    "    Inheritance allows one class (called a subclass or child class) to inherit properties and behaviors from another class (called a superclass or parent class). This promotes code reuse and creates a natural hierarchy between classes, reducing redundancy and making the code more modular.\n",
    "\n",
    "4. Polymorphism:           \n",
    "    Polymorphism enables objects of different classes to respond to the same method in their own unique way. It allows for flexibility and scalability in code, as the same operation can be performed differently depending on the object type. This is typically achieved through method overriding or method overloading.\n",
    "\n",
    "5. Abstraction:             \n",
    "    Abstraction involves hiding the complex implementation details and exposing only the essential features of an object. By simplifying interactions and focusing on what an object does rather than how it does it, abstraction reduces complexity and makes the system easier to use and maintain."
   ]
  },
  {
   "cell_type": "markdown",
   "metadata": {},
   "source": [
    "## 2. Write a Python class for a `Car` with attributes for `make`, `model`, and `year`. Include a method to display the car's information."
   ]
  },
  {
   "cell_type": "code",
   "execution_count": 2,
   "metadata": {},
   "outputs": [
    {
     "name": "stdout",
     "output_type": "stream",
     "text": [
      "Car Information: 2022 Toyota Corolla\n"
     ]
    }
   ],
   "source": [
    "\n",
    "class Car:\n",
    "    def __init__(self, make, model, year):\n",
    "        self.make = make\n",
    "        self.model = model\n",
    "        self.year = year\n",
    "    \n",
    "    def display_info(self):\n",
    "        print(f\"Car Information: {self.year} {self.make} {self.model}\")\n",
    "        \n",
    "# Example usage:\n",
    "my_car = Car(\"Toyota\", \"Corolla\", 2022)\n",
    "my_car.display_info()\n"
   ]
  },
  {
   "cell_type": "markdown",
   "metadata": {},
   "source": [
    "## 3. Explain the difference between instance methods and class methods. Provide an example of each."
   ]
  },
  {
   "cell_type": "markdown",
   "metadata": {},
   "source": [
    "*Difference Between Instance Methods and Class Methods:*\n",
    "\n",
    "### Instance Methods:\n",
    "- These are methods that operate on instances of a class.\n",
    "- They can access and modify the instance-specific data (attributes) of a class.\n",
    "- They require an instance of the class to be called and have access to the instance through the self parameter."
   ]
  },
  {
   "cell_type": "code",
   "execution_count": 3,
   "metadata": {},
   "outputs": [
    {
     "name": "stdout",
     "output_type": "stream",
     "text": [
      "Hello, my name is Alice and I am 30 years old.\n"
     ]
    }
   ],
   "source": [
    "# Example\n",
    "\n",
    "class Person:\n",
    "    def __init__(self, name, age):\n",
    "        self.name = name\n",
    "        self.age = age\n",
    "    \n",
    "    # Instance method\n",
    "    def greet(self):\n",
    "        return f\"Hello, my name is {self.name} and I am {self.age} years old.\"\n",
    "\n",
    "# Create an instance of Person\n",
    "person1 = Person(\"Alice\", 30)\n",
    "print(person1.greet())  \n"
   ]
  },
  {
   "cell_type": "markdown",
   "metadata": {},
   "source": [
    "### Class Methods:\n",
    "- These methods operate on the class itself rather than on instances of the class.\n",
    "- They can modify class-level data (shared by all instances of the class) but cannot directly access or modify instance-level data.\n",
    "- They require the @classmethod decorator and take cls as the first parameter, which refers to the class, not the instance."
   ]
  },
  {
   "cell_type": "code",
   "execution_count": 4,
   "metadata": {},
   "outputs": [
    {
     "name": "stdout",
     "output_type": "stream",
     "text": [
      "All persons are of species Homo sapiens.\n"
     ]
    }
   ],
   "source": [
    "# Example\n",
    "\n",
    "class Person:\n",
    "    # Class attribute\n",
    "    species = \"Homo sapiens\"\n",
    "    \n",
    "    def __init__(self, name, age):\n",
    "        self.name = name\n",
    "        self.age = age\n",
    "\n",
    "    # Class method\n",
    "    @classmethod\n",
    "    def species_info(cls):\n",
    "        return f\"All persons are of species {cls.species}.\"\n",
    "\n",
    "# Call the class method\n",
    "print(Person.species_info()) \n"
   ]
  },
  {
   "cell_type": "markdown",
   "metadata": {},
   "source": [
    "### Key Differences:\n",
    "- *Instance methods:*                \n",
    "    Require an instance (self) to be called and can access/modify instance-level data.\n",
    "- *Class methods:*               \n",
    "    Use the class (cls) rather than an instance and can access/modify class-level data, but not instance-level data."
   ]
  },
  {
   "cell_type": "markdown",
   "metadata": {},
   "source": [
    "## 4. How does Python implement method overloading? Give an example."
   ]
  },
  {
   "cell_type": "markdown",
   "metadata": {},
   "source": [
    "### Method Overloading in Python\n",
    "- In many programming languages, method overloading allows multiple methods with the same name but different parameter signatures (different number or types of arguments). However, Python does not support true method overloading. In Python, if you define multiple methods with the same name, the most recent definition will overwrite the previous ones. This means that Python retains only one version of the method, the latest one defined.\n",
    "\n",
    "- To mimic method overloading, Python relies on techniques such as default arguments, or using variable-length arguments like *args and **kwargs. These methods allow a single function to handle different numbers or types of arguments."
   ]
  },
  {
   "cell_type": "code",
   "execution_count": 5,
   "metadata": {},
   "outputs": [
    {
     "name": "stdout",
     "output_type": "stream",
     "text": [
      "Two arguments: 10, 20\n"
     ]
    }
   ],
   "source": [
    "# Example: Python Does Not Support True Method Overloading\n",
    "\n",
    "class Example:\n",
    "    def display(self, a):\n",
    "        print(f\"Single argument: {a}\")\n",
    "\n",
    "    def display(self, a, b):\n",
    "        print(f\"Two arguments: {a}, {b}\")\n",
    "\n",
    "# Example usage:\n",
    "obj = Example()\n",
    "# obj.display(10)  # This will raise a TypeError because the first method is overwritten\n",
    "obj.display(10, 20)  \n",
    "\n",
    "# In this case, Python discards the first display method with one parameter when the second method is defined.\n",
    "# Only the second display method (with two parameters) remains, meaning there is no method overloading."
   ]
  },
  {
   "cell_type": "markdown",
   "metadata": {},
   "source": [
    "### Achieving Method Overloading Behavior in Python"
   ]
  },
  {
   "cell_type": "code",
   "execution_count": 6,
   "metadata": {},
   "outputs": [
    {
     "name": "stdout",
     "output_type": "stream",
     "text": [
      "5\n",
      "15\n",
      "30\n"
     ]
    }
   ],
   "source": [
    "# 1. Using Default Arguments: You can use default argument values to achieve overloading-like behavior by allowing some parameters to be optional.\n",
    "\n",
    "class Calculator:\n",
    "    def add(self, a, b=0, c=0):\n",
    "        return a + b + c\n",
    "\n",
    "# Example usage:\n",
    "calc = Calculator()\n",
    "print(calc.add(5))         # Output: 5  (adds one number)\n",
    "print(calc.add(5, 10))     # Output: 15 (adds two numbers)\n",
    "print(calc.add(5, 10, 15)) # Output: 30 (adds three numbers)\n",
    "\n",
    "# Here, the add method handles different numbers of arguments by using default values for b and c, providing flexibility similar to method overloading.\n",
    "    "
   ]
  },
  {
   "cell_type": "code",
   "execution_count": 8,
   "metadata": {},
   "outputs": [
    {
     "name": "stdout",
     "output_type": "stream",
     "text": [
      "5\n",
      "15\n",
      "50\n"
     ]
    }
   ],
   "source": [
    "# 2. Using *args for Arbitrary Numbers of Arguments: By using *args, you can allow a method to accept any number of positional arguments.\n",
    "\n",
    "class Calculator:\n",
    "    def add(self, *args):\n",
    "        return sum(args)\n",
    "\n",
    "# Example usage:\n",
    "calc = Calculator()\n",
    "print(calc.add(5))             # Output: 5  (adds one number)\n",
    "print(calc.add(5, 10))         # Output: 15 (adds two numbers)\n",
    "print(calc.add(5, 10, 15, 20)) # Output: 50 (adds four numbers)\n",
    "\n",
    "# In this example, the add method can accept any number of arguments, making it more flexible and simulating method overloading.\n",
    "\n"
   ]
  },
  {
   "cell_type": "markdown",
   "metadata": {},
   "source": [
    "Although Python does not support true method overloading, you can achieve similar behavior using techniques like default arguments or variable-length arguments (*args, **kwargs). These approaches allow a single method to handle varying numbers of arguments and types, providing flexibility without the need for traditional overloading."
   ]
  },
  {
   "cell_type": "markdown",
   "metadata": {},
   "source": [
    "## 5. What are the three types of access modifiers in Python? How are they denoted?"
   ]
  },
  {
   "cell_type": "markdown",
   "metadata": {},
   "source": [
    "In Python, access modifiers control how class attributes and methods can be accessed from outside the class. Python has three types of access modifiers: public, protected, and private.\n",
    "\n",
    "### 1. Public\n",
    "- Denotation: No special prefix (default).\n",
    "- Accessibility: Public members can be accessed from anywhere—both inside and outside the class. By default, all attributes and methods in Python are public unless otherwise specified.\n"
   ]
  },
  {
   "cell_type": "code",
   "execution_count": 9,
   "metadata": {},
   "outputs": [
    {
     "name": "stdout",
     "output_type": "stream",
     "text": [
      "Toyota\n",
      "Car: Toyota Corolla\n"
     ]
    }
   ],
   "source": [
    "# Example\n",
    "\n",
    "class Car:\n",
    "    def __init__(self, make, model):\n",
    "        self.make = make  # Public attribute\n",
    "        self.model = model  # Public attribute\n",
    "    \n",
    "    def display_info(self):\n",
    "        print(f\"Car: {self.make} {self.model}\")  # Public method\n",
    "\n",
    "my_car = Car(\"Toyota\", \"Corolla\")\n",
    "print(my_car.make)  # Accessible outside the class\n",
    "my_car.display_info()  # Accessible outside the class\n"
   ]
  },
  {
   "cell_type": "markdown",
   "metadata": {},
   "source": [
    "### 2. Protected\n",
    "- Denotation: Single underscore prefix (_).\n",
    "- Accessibility: Protected members are intended to be accessed only within the class and its subclasses. However, in Python, this is a convention rather than strict enforcement. You can still access protected members from outside the class, but it is discouraged.\n"
   ]
  },
  {
   "cell_type": "code",
   "execution_count": 10,
   "metadata": {},
   "outputs": [
    {
     "name": "stdout",
     "output_type": "stream",
     "text": [
      "Toyota\n"
     ]
    }
   ],
   "source": [
    "# Example\n",
    "\n",
    "class Car:\n",
    "    def __init__(self, make, model):\n",
    "        self._make = make  # Protected attribute\n",
    "        self._model = model  # Protected attribute\n",
    "\n",
    "    def _display_info(self):\n",
    "        print(f\"Car: {self._make} {self._model}\")  # Protected method\n",
    "\n",
    "my_car = Car(\"Toyota\", \"Corolla\")\n",
    "print(my_car._make)  # Technically accessible, but discouraged\n"
   ]
  },
  {
   "cell_type": "markdown",
   "metadata": {},
   "source": [
    "### 3. Private \n",
    "- Denotation: Double underscore prefix (__).\n",
    "- Accessibility: Private members are meant to be accessible only within the class where they are defined. Python uses name mangling to change the name of private members by prepending the class name, making it harder to access them from outside the class. Although not completely hidden, private members are more difficult to access, helping to enforce encapsulation.\n",
    "- Name Mangling: When a member is defined with a double underscore (__), Python automatically changes the name internally by adding the class name as a prefix, e.g., __make becomes _Car__make. This prevents accidental access from outside the class, although it can still be accessed by using the mangled name"
   ]
  },
  {
   "cell_type": "code",
   "execution_count": 11,
   "metadata": {},
   "outputs": [
    {
     "name": "stdout",
     "output_type": "stream",
     "text": [
      "Car: Toyota Corolla\n",
      "Toyota\n",
      "Car: Toyota Corolla\n"
     ]
    }
   ],
   "source": [
    "# Example\n",
    "\n",
    "class Car:\n",
    "    def __init__(self, make, model):\n",
    "        self.__make = make  # Private attribute\n",
    "        self.__model = model  # Private attribute\n",
    "    \n",
    "    def __display_info(self):  # Private method\n",
    "        print(f\"Car: {self.__make} {self.__model}\")\n",
    "    \n",
    "    def get_info(self):\n",
    "        self.__display_info()  # Accessing private method within the class\n",
    "\n",
    "my_car = Car(\"Toyota\", \"Corolla\")\n",
    "\n",
    "# Direct access to private members will raise an AttributeError:\n",
    "# print(my_car.__make)  # This will raise an error\n",
    "\n",
    "# Accessing private method via a public method:\n",
    "my_car.get_info()  # Output: Car: Toyota Corolla\n",
    "\n",
    "# Name mangling allows access to private members, though it's discouraged:\n",
    "print(my_car._Car__make)  # Output: Toyota (mangled name access)\n",
    "my_car._Car__display_info()  # Output: Car: Toyota Corolla\n"
   ]
  },
  {
   "cell_type": "markdown",
   "metadata": {},
   "source": [
    "### Name Mangling Explanation:\n",
    "- When private members are defined using a double underscore (__), Python automatically mangles their names by adding the class name as a prefix. For example:\n",
    "\n",
    "- __make becomes _Car__make\n",
    "- __display_info becomes _Car__display_info\n",
    "- This makes it difficult to access these members from outside the class, preserving the intention of keeping them private. However, they can still be accessed using the mangled name, although this is discouraged as it violates encapsulation.\n",
    "\n",
    "### Summary:\n",
    "- Public: No prefix, accessible from anywhere.\n",
    "- Protected: Single underscore (_), intended for use within the class and its subclasses but still accessible from outside the class.\n",
    "- Private: Double underscore (__), accessible only within the class. Python uses name mangling to prevent direct access, but the mangled name can be used to access it if necessary (not recommended)."
   ]
  },
  {
   "cell_type": "markdown",
   "metadata": {},
   "source": [
    "## 6. Describe the five types of inheritance in Python. Provide a simple example of multiple inheritance."
   ]
  },
  {
   "cell_type": "markdown",
   "metadata": {},
   "source": [
    "Inheritance is a fundamental concept in object-oriented programming that allows one class to inherit attributes and methods from another class. In Python, there are five types of inheritance:\n",
    "\n",
    "### 1. Single Inheritance\n",
    "- Description: A derived (child) class inherits from a single base (parent) class.\n"
   ]
  },
  {
   "cell_type": "code",
   "execution_count": 12,
   "metadata": {},
   "outputs": [
    {
     "name": "stdout",
     "output_type": "stream",
     "text": [
      "This is the Parent class\n"
     ]
    }
   ],
   "source": [
    "# Example\n",
    "\n",
    "class Parent:\n",
    "    def show(self):\n",
    "        print(\"This is the Parent class\")\n",
    "\n",
    "class Child(Parent):\n",
    "    pass\n",
    "\n",
    "obj = Child()\n",
    "obj.show()  # Output: This is the Parent class\n"
   ]
  },
  {
   "cell_type": "markdown",
   "metadata": {},
   "source": [
    "### 2. Multiple Inheritance\n",
    "- Description: A derived class inherits from more than one base class. This allows the child class to access the attributes and methods of multiple parents."
   ]
  },
  {
   "cell_type": "code",
   "execution_count": 13,
   "metadata": {},
   "outputs": [
    {
     "name": "stdout",
     "output_type": "stream",
     "text": [
      "This is Parent1 class\n",
      "This is Parent2 class\n"
     ]
    }
   ],
   "source": [
    "# Example\n",
    "\n",
    "class Parent1:\n",
    "    def show1(self):\n",
    "        print(\"This is Parent1 class\")\n",
    "\n",
    "class Parent2:\n",
    "    def show2(self):\n",
    "        print(\"This is Parent2 class\")\n",
    "\n",
    "class Child(Parent1, Parent2):\n",
    "    pass\n",
    "\n",
    "obj = Child()\n",
    "obj.show1()  # Output: This is Parent1 class\n",
    "obj.show2()  # Output: This is Parent2 class\n"
   ]
  },
  {
   "cell_type": "markdown",
   "metadata": {},
   "source": [
    "### 3. Multilevel Inheritance\n",
    "- Description: A derived class inherits from a parent class, and that parent class is derived from another class. This forms a chain of inheritance.\n"
   ]
  },
  {
   "cell_type": "code",
   "execution_count": 14,
   "metadata": {},
   "outputs": [
    {
     "name": "stdout",
     "output_type": "stream",
     "text": [
      "This is the Grandparent class\n"
     ]
    }
   ],
   "source": [
    "# Example\n",
    "\n",
    "class Grandparent:\n",
    "    def show(self):\n",
    "        print(\"This is the Grandparent class\")\n",
    "\n",
    "class Parent(Grandparent):\n",
    "    pass\n",
    "\n",
    "class Child(Parent):\n",
    "    pass\n",
    "\n",
    "obj = Child()\n",
    "obj.show()  # Output: This is the Grandparent class\n"
   ]
  },
  {
   "cell_type": "markdown",
   "metadata": {},
   "source": [
    "### 4. Hierarchical Inheritance\n",
    "- Description: Multiple derived (child) classes inherit from a single base (parent) class. Each child class can have its own unique behavior while sharing the common features of the parent class."
   ]
  },
  {
   "cell_type": "code",
   "execution_count": 15,
   "metadata": {},
   "outputs": [
    {
     "name": "stdout",
     "output_type": "stream",
     "text": [
      "This is the Parent class\n",
      "This is the Parent class\n"
     ]
    }
   ],
   "source": [
    "# Example\n",
    "\n",
    "class Parent:\n",
    "    def show(self):\n",
    "        print(\"This is the Parent class\")\n",
    "\n",
    "class Child1(Parent):\n",
    "    pass\n",
    "\n",
    "class Child2(Parent):\n",
    "    pass\n",
    "\n",
    "obj1 = Child1()\n",
    "obj2 = Child2()\n",
    "obj1.show()  # Output: This is the Parent class\n",
    "obj2.show()  # Output: This is the Parent class\n"
   ]
  },
  {
   "cell_type": "markdown",
   "metadata": {},
   "source": [
    "### 5. Hybrid Inheritance\n",
    "- Description: A combination of two or more types of inheritance. For example, combining multiple and multilevel inheritance. This can lead to complex structures."
   ]
  },
  {
   "cell_type": "code",
   "execution_count": 16,
   "metadata": {},
   "outputs": [
    {
     "name": "stdout",
     "output_type": "stream",
     "text": [
      "This is the Parent class\n"
     ]
    }
   ],
   "source": [
    "# Example\n",
    "\n",
    "class Parent:\n",
    "    def show(self):\n",
    "        print(\"This is the Parent class\")\n",
    "\n",
    "class Child1(Parent):\n",
    "    pass\n",
    "\n",
    "class Child2(Parent):\n",
    "    pass\n",
    "\n",
    "class Grandchild(Child1, Child2):\n",
    "    pass\n",
    "\n",
    "obj = Grandchild()\n",
    "obj.show()  # Output: This is the Parent class\n"
   ]
  },
  {
   "cell_type": "markdown",
   "metadata": {},
   "source": [
    "## 7. What is the Method Resolution Order (MRO) in Python? How can you retrieve it programmatically?"
   ]
  },
  {
   "cell_type": "markdown",
   "metadata": {},
   "source": [
    "*The Method Resolution Order (MRO) in Python is the order in which a class's methods are searched when invoking a method. When a method is called on an instance of a class, Python follows the MRO to determine the sequence in which it looks for that method in the class hierarchy.*\n",
    "\n",
    "*The MRO is particularly important in cases of multiple inheritance, where a class inherits from more than one parent class. Python uses the C3 linearization algorithm (also known as the C3 superclass linearization) to compute the MRO in such cases, ensuring that the inheritance structure is followed consistently.*\n",
    "\n",
    "### Key Points about MRO:\n",
    "- MRO determines the sequence in which methods are inherited and resolved.\n",
    "- In single inheritance, MRO is straightforward: Python looks first in the class itself, then up through the base classes.\n",
    "- In multiple inheritance, Python follows the C3 linearization algorithm to resolve the method order.\n",
    "- The MRO is represented as a tuple, with the current class appearing first, followed by the parent classes in the order Python searches them.\n",
    "\n",
    "### Retrieving MRO Programmatically\n",
    "You can retrieve the MRO of a class programmatically using:\n",
    "\n",
    "1. The mro() method: This is a class method that returns a list of classes in the method resolution order.\n",
    "2. The __mro__ attribute: This is a special class attribute that contains a tuple of the classes in the MRO."
   ]
  },
  {
   "cell_type": "code",
   "execution_count": 17,
   "metadata": {},
   "outputs": [
    {
     "name": "stdout",
     "output_type": "stream",
     "text": [
      "[<class '__main__.D'>, <class '__main__.B'>, <class '__main__.C'>, <class '__main__.A'>, <class 'object'>]\n",
      "(<class '__main__.D'>, <class '__main__.B'>, <class '__main__.C'>, <class '__main__.A'>, <class 'object'>)\n",
      "Class B\n"
     ]
    }
   ],
   "source": [
    "class A:\n",
    "    def show(self):\n",
    "        print(\"Class A\")\n",
    "\n",
    "class B(A):\n",
    "    def show(self):\n",
    "        print(\"Class B\")\n",
    "\n",
    "class C(A):\n",
    "    def show(self):\n",
    "        print(\"Class C\")\n",
    "\n",
    "class D(B, C):\n",
    "    pass\n",
    "\n",
    "# Method Resolution Order:\n",
    "print(D.mro())  # Using mro() method\n",
    "# Output: [<class '__main__.D'>, <class '__main__.B'>, <class '__main__.C'>, <class '__main__.A'>, <class 'object'>]\n",
    "\n",
    "print(D.__mro__)  # Using __mro__ attribute\n",
    "# Output: (<class '__main__.D'>, <class '__main__.B'>, <class '__main__.C'>, <class '__main__.A'>, <class 'object'>)\n",
    "\n",
    "# Example of method call using MRO:\n",
    "obj = D()\n",
    "obj.show()  # Output: Class B (since D inherits from B first)\n"
   ]
  },
  {
   "cell_type": "markdown",
   "metadata": {},
   "source": [
    "### How MRO Works:\n",
    "In the example above:\n",
    "\n",
    "- The D class inherits from both B and C.\n",
    "- When obj.show() is called on an instance of D, Python follows the MRO:\n",
    "- It first checks in D, then moves to B, followed by C, and finally A.        \n",
    "\n",
    "Method Resolution Order (MRO) for Class D:\n",
    "- D → B → C → A → object"
   ]
  },
  {
   "cell_type": "markdown",
   "metadata": {},
   "source": [
    "## 8. Create an abstract base class Shape with an abstract method area(). Then create two subclasses  Circle and Rectangle that implement the area() method."
   ]
  },
  {
   "cell_type": "markdown",
   "metadata": {},
   "source": [
    "Here’s how you can create an abstract base class Shape with an abstract method area() and two subclasses Circle and Rectangle that implement the method:\n",
    "\n",
    "### Explanation:\n",
    "- Abstract Base Class (ABC): In Python, an abstract base class is a class that cannot be instantiated directly. It contains one or more abstract methods that must be implemented by its subclasses. You can create an abstract class using the ABC module from the abc library and mark abstract methods with the @abstractmethod decorator.\n",
    "- The Circle and Rectangle classes will inherit from the Shape abstract class and implement the area() method according to their respective formulas."
   ]
  },
  {
   "cell_type": "code",
   "execution_count": 1,
   "metadata": {},
   "outputs": [
    {
     "name": "stdout",
     "output_type": "stream",
     "text": [
      "Area of Circle: 78.53981633974483\n",
      "Area of Rectangle: 24\n"
     ]
    }
   ],
   "source": [
    "from abc import ABC, abstractmethod\n",
    "import math\n",
    "\n",
    "# Abstract Base Class\n",
    "class Shape(ABC):\n",
    "    \n",
    "    @abstractmethod\n",
    "    def area(self):\n",
    "        pass  # Abstract method, must be implemented by subclasses\n",
    "\n",
    "# Subclass for Circle\n",
    "class Circle(Shape):\n",
    "    def __init__(self, radius):\n",
    "        self.radius = radius\n",
    "    \n",
    "    def area(self):\n",
    "        return math.pi * self.radius ** 2  # Formula: π * r^2\n",
    "\n",
    "# Subclass for Rectangle\n",
    "class Rectangle(Shape):\n",
    "    def __init__(self, width, height):\n",
    "        self.width = width\n",
    "        self.height = height\n",
    "    \n",
    "    def area(self):\n",
    "        return self.width * self.height  # Formula: width * height\n",
    "\n",
    "# Example usage:\n",
    "circle = Circle(5)\n",
    "rectangle = Rectangle(4, 6)\n",
    "\n",
    "print(f\"Area of Circle: {circle.area()}\")       # Output: Area of Circle: 78.53981633974483\n",
    "print(f\"Area of Rectangle: {rectangle.area()}\") # Output: Area of Rectangle: 24\n"
   ]
  },
  {
   "cell_type": "markdown",
   "metadata": {},
   "source": [
    "### Key Points:\n",
    "- The Shape class is an abstract base class with an abstract method area(), which is marked using the @abstractmethod decorator.\n",
    "- The Circle and Rectangle classes inherit from Shape and implement their own version of the area() method using specific formulas for each shape.\n",
    "- The Circle class computes the area using the formula for the area of a circle: πr^2.\n",
    "- The Rectangle class computes the area using the formula for the area of a rectangle: width×height.\n",
    "- The abstract class ensures that any subclass of Shape must implement the area() method, enforcing a contract."
   ]
  },
  {
   "cell_type": "markdown",
   "metadata": {},
   "source": [
    "## 9. Demonstrate polymorphism by creating a function that can work with different shape objects to calculate and print their areas."
   ]
  },
  {
   "cell_type": "markdown",
   "metadata": {},
   "source": [
    "Polymorphism is the ability to use a single interface (like a function) to work with objects of different classes. In this case, we can create a function that accepts objects of different shapes (such as Circle and Rectangle) and uses their area() method to calculate and print their areas.              \n",
    "        \n",
    "Here's how to demonstrate polymorphism using the Shape, Circle, and Rectangle classes we created earlier:"
   ]
  },
  {
   "cell_type": "code",
   "execution_count": 2,
   "metadata": {},
   "outputs": [
    {
     "name": "stdout",
     "output_type": "stream",
     "text": [
      "The area is: 78.53981633974483\n",
      "The area is: 24\n"
     ]
    }
   ],
   "source": [
    "from abc import ABC, abstractmethod\n",
    "import math\n",
    "\n",
    "# Abstract Base Class\n",
    "class Shape(ABC):\n",
    "    \n",
    "    @abstractmethod\n",
    "    def area(self):\n",
    "        pass  # Abstract method to be implemented by subclasses\n",
    "\n",
    "# Subclass for Circle\n",
    "class Circle(Shape):\n",
    "    def __init__(self, radius):\n",
    "        self.radius = radius\n",
    "    \n",
    "    def area(self):\n",
    "        return math.pi * self.radius ** 2  # Formula: π * r^2\n",
    "\n",
    "# Subclass for Rectangle\n",
    "class Rectangle(Shape):\n",
    "    def __init__(self, width, height):\n",
    "        self.width = width\n",
    "        self.height = height\n",
    "    \n",
    "    def area(self):\n",
    "        return self.width * self.height  # Formula: width * height\n",
    "\n",
    "# Polymorphic function to calculate and print area\n",
    "def print_area(shape):\n",
    "    print(f\"The area is: {shape.area()}\")\n",
    "\n",
    "# Example usage:\n",
    "circle = Circle(5)\n",
    "rectangle = Rectangle(4, 6)\n",
    "\n",
    "# Polymorphism in action: the same function works with different shape objects\n",
    "print_area(circle)      # Output: The area is: 78.53981633974483\n",
    "print_area(rectangle)   # Output: The area is: 24\n"
   ]
  },
  {
   "cell_type": "markdown",
   "metadata": {},
   "source": [
    "### Explanation:\n",
    "- Polymorphism allows the function print_area() to work with different types of objects (e.g., Circle, Rectangle), as long as they implement the area() method.\n",
    "- The function calls shape.area() without needing to know the specific type of the shape object—Python dynamically determines the correct area() method based on the object passed.\n",
    "- Both Circle and Rectangle objects can be passed to the same print_area() function, demonstrating how the function behaves differently depending on the type of object passed.\n",
    "\n",
    "### Key Point:\n",
    "Polymorphism allows a single function (print_area()) to handle objects of different types (Circle and Rectangle) as long as they follow the same interface (implement the area() method). This illustrates the flexibility and power of polymorphism in object-oriented programming."
   ]
  },
  {
   "cell_type": "markdown",
   "metadata": {},
   "source": [
    "## 10. Implement encapsulation in a `BankAccount` class with private attributes for `balance` and `account_number`. Include methods for deposit, withdrawal, and balance inquiry."
   ]
  },
  {
   "cell_type": "markdown",
   "metadata": {},
   "source": [
    "Encapsulation is the principle of restricting access to some of an object's attributes and methods, so that they can't be modified directly from outside the class. In Python, this can be done using private attributes (denoted with double underscores __).                   \n",
    "\n",
    "Here’s an implementation of a BankAccount class with private attributes balance and account_number. We will provide public methods for deposit, withdrawal, and balance inquiry to interact with the private data securely."
   ]
  },
  {
   "cell_type": "code",
   "execution_count": 3,
   "metadata": {},
   "outputs": [
    {
     "name": "stdout",
     "output_type": "stream",
     "text": [
      "Account Number: 1234567890\n",
      "Current Balance: 500\n",
      "Deposited 200. New balance: 700\n",
      "Withdrew 150. New balance: 550\n",
      "Current Balance: 550\n"
     ]
    }
   ],
   "source": [
    "class BankAccount:\n",
    "    def __init__(self, account_number, initial_balance=0):\n",
    "        self.__account_number = account_number  # Private attribute for account number\n",
    "        self.__balance = initial_balance        # Private attribute for balance\n",
    "    \n",
    "    # Method to deposit money\n",
    "    def deposit(self, amount):\n",
    "        if amount > 0:\n",
    "            self.__balance += amount\n",
    "            print(f\"Deposited {amount}. New balance: {self.__balance}\")\n",
    "        else:\n",
    "            print(\"Deposit amount must be positive.\")\n",
    "    \n",
    "    # Method to withdraw money\n",
    "    def withdraw(self, amount):\n",
    "        if 0 < amount <= self.__balance:\n",
    "            self.__balance -= amount\n",
    "            print(f\"Withdrew {amount}. New balance: {self.__balance}\")\n",
    "        else:\n",
    "            print(\"Insufficient balance or invalid withdrawal amount.\")\n",
    "    \n",
    "    # Method to check balance\n",
    "    def check_balance(self):\n",
    "        return self.__balance\n",
    "    \n",
    "    # Method to display account details\n",
    "    def display_account_info(self):\n",
    "        print(f\"Account Number: {self.__account_number}\")\n",
    "        print(f\"Current Balance: {self.__balance}\")\n",
    "\n",
    "# Example usage:\n",
    "account = BankAccount(\"1234567890\", 500)\n",
    "\n",
    "# Interacting with the account using public methods\n",
    "account.display_account_info()     # Output: Account Number: 1234567890, Current Balance: 500\n",
    "account.deposit(200)               # Output: Deposited 200. New balance: 700\n",
    "account.withdraw(150)              # Output: Withdrew 150. New balance: 550\n",
    "print(\"Current Balance:\", account.check_balance())  # Output: Current Balance: 550\n",
    "\n",
    "# Trying to access private attributes directly (this will raise an error)\n",
    "# print(account.__balance)   # This will raise an AttributeError\n",
    "# print(account.__account_number)  # This will raise an AttributeError\n"
   ]
  },
  {
   "cell_type": "markdown",
   "metadata": {},
   "source": [
    "### Key Points:\n",
    "- Private Attributes:\n",
    "    - The attributes __balance and __account_number are made private by using double underscores (__) before their names. This prevents them from being accessed directly outside the class.\n",
    "    - Attempting to access account.__balance or account.__account_number from outside the class will result in an AttributeError, enforcing encapsulation.\n",
    "\n",
    "- Public Methods:\n",
    "    - The class provides public methods such as deposit(), withdraw(), and check_balance() to allow controlled access and modification of the private attributes.\n",
    "    - These methods validate the input (e.g., ensuring the deposit is positive and the withdrawal amount is valid) to protect the integrity of the balance.\n",
    "\n",
    "- Encapsulation:\n",
    "    - Encapsulation ensures that the sensitive data (like balance and account_number) cannot be tampered with directly. Instead, users must interact with the class through well-defined methods, adding a layer of security."
   ]
  },
  {
   "cell_type": "markdown",
   "metadata": {},
   "source": [
    "Here's the BankAccount class with encapsulation, *using getter and setter methods* to access and modify the private attributes balance and account_number. The getter method allows you to retrieve the value of a private attribute, while the setter method allows you to set or modify the value with validation."
   ]
  },
  {
   "cell_type": "code",
   "execution_count": 5,
   "metadata": {},
   "outputs": [
    {
     "name": "stdout",
     "output_type": "stream",
     "text": [
      "Account Number: 1234567890\n",
      "Current Balance: 500\n",
      "Updated Balance: 600\n",
      "Deposited 200. New balance: 800\n",
      "Withdrew 150. New balance: 650\n",
      "Account Number: 1234567890\n",
      "Final Balance: 650\n"
     ]
    }
   ],
   "source": [
    "# Using Getter and Setter Methods\n",
    "\n",
    "class BankAccount:\n",
    "    def __init__(self, account_number, initial_balance=0):\n",
    "        self.__account_number = account_number  # Private attribute for account number\n",
    "        self.__balance = initial_balance        # Private attribute for balance\n",
    "\n",
    "    # Getter method for account_number\n",
    "    def get_account_number(self):\n",
    "        return self.__account_number\n",
    "    \n",
    "    # Setter method for account_number (not typically modified in practice, but included for illustration)\n",
    "    def set_account_number(self, account_number):\n",
    "        self.__account_number = account_number\n",
    "\n",
    "    # Getter method for balance\n",
    "    def get_balance(self):\n",
    "        return self.__balance\n",
    "    \n",
    "    # Setter method for balance with validation\n",
    "    def set_balance(self, balance):\n",
    "        if balance >= 0:\n",
    "            self.__balance = balance\n",
    "        else:\n",
    "            print(\"Balance cannot be negative.\")\n",
    "    \n",
    "    # Method to deposit money\n",
    "    def deposit(self, amount):\n",
    "        if amount > 0:\n",
    "            self.__balance += amount\n",
    "            print(f\"Deposited {amount}. New balance: {self.__balance}\")\n",
    "        else:\n",
    "            print(\"Deposit amount must be positive.\")\n",
    "    \n",
    "    # Method to withdraw money\n",
    "    def withdraw(self, amount):\n",
    "        if 0 < amount <= self.__balance:\n",
    "            self.__balance -= amount\n",
    "            print(f\"Withdrew {amount}. New balance: {self.__balance}\")\n",
    "        else:\n",
    "            print(\"Insufficient balance or invalid withdrawal amount.\")\n",
    "    \n",
    "    # Method to display account details\n",
    "    def display_account_info(self):\n",
    "        print(f\"Account Number: {self.__account_number}\")\n",
    "        print(f\"Current Balance: {self.__balance}\")\n",
    "\n",
    "# Example usage:\n",
    "account = BankAccount(\"1234567890\", 500)\n",
    "\n",
    "# Interacting with the account using getter and setter methods\n",
    "account.display_account_info()    # Output: Account Number: 1234567890, Current Balance: 500\n",
    "\n",
    "# Using setter to update balance\n",
    "account.set_balance(600)\n",
    "print(f\"Updated Balance: {account.get_balance()}\")  # Output: Updated Balance: 600\n",
    "\n",
    "# Deposit and withdrawal using methods\n",
    "account.deposit(200)              # Output: Deposited 200. New balance: 800\n",
    "account.withdraw(150)             # Output: Withdrew 150. New balance: 650\n",
    "\n",
    "# Using getter to retrieve account number and balance\n",
    "print(f\"Account Number: {account.get_account_number()}\")  # Output: Account Number: 1234567890\n",
    "print(f\"Final Balance: {account.get_balance()}\")          # Output: Final Balance: 650\n"
   ]
  },
  {
   "cell_type": "markdown",
   "metadata": {},
   "source": [
    "### Explanation:\n",
    "- Getter Methods:\n",
    "    - get_account_number() and get_balance() are used to safely access the private attributes __account_number and __balance from outside the class.\n",
    "- Setter Methods:\n",
    "    - set_balance() allows you to set a new value for the private attribute __balance, with validation to ensure that the balance cannot be negative.\n",
    "    - set_account_number() is provided to change the account number (though in practice, account numbers are rarely modified after creation).\n",
    "- Public Methods:\n",
    "    - The methods deposit() and withdraw() still handle the main logic of interacting with the balance, but now the balance is protected by using the getter and setter methods where appropriate.\n",
    "- Encapsulation:\n",
    "    - This approach continues to enforce encapsulation by restricting direct access to private attributes. Instead, access is only possible through the defined getter and setter methods, allowing validation and control over the data."
   ]
  },
  {
   "cell_type": "markdown",
   "metadata": {},
   "source": [
    "## 11. Write a class that overrides the `__str__` and `__add__` magic methods. What will these methods allow  you to do?"
   ]
  },
  {
   "cell_type": "markdown",
   "metadata": {},
   "source": [
    "In Python, magic methods (also known as dunder methods) allow us to define how objects of a class should behave when used with built-in Python functions or operators. By overriding the __str__ and __add__ methods, we can customize the behavior of the class when we:\n",
    "1. Print an instance of the class using print() or str().\n",
    "2. Use the + operator to add two instances of the class together.                          \n",
    "\n",
    "What These Methods Do:\n",
    "1. __ str __ (self): This method is used to define the string representation of an object. When you use print() on an instance, Python will call the __str__ method to get the user-friendly string representation of the object.\n",
    "\n",
    "2. __ add __ (self, other): This method is used to define the behavior of the + operator when applied to objects of the class. It allows us to control what happens when two instances of the class are added together."
   ]
  },
  {
   "cell_type": "code",
   "execution_count": 6,
   "metadata": {},
   "outputs": [
    {
     "name": "stdout",
     "output_type": "stream",
     "text": [
      "Point(2, 3)\n",
      "Point(4, 5)\n",
      "Point(6, 8)\n"
     ]
    }
   ],
   "source": [
    "# Example:\n",
    "# Let’s create a class Point that represents a point in a 2D space and overrides both the __str__ and __add__ methods.\n",
    "\n",
    "class Point:\n",
    "    def __init__(self, x, y):\n",
    "        self.x = x\n",
    "        self.y = y\n",
    "    \n",
    "    # Override the __str__ method to define how the object is printed\n",
    "    def __str__(self):\n",
    "        return f\"Point({self.x}, {self.y})\"\n",
    "    \n",
    "    # Override the __add__ method to add two Point objects\n",
    "    def __add__(self, other):\n",
    "        return Point(self.x + other.x, self.y + other.y)\n",
    "\n",
    "# Example usage:\n",
    "point1 = Point(2, 3)\n",
    "point2 = Point(4, 5)\n",
    "\n",
    "# Using the __str__ method for a user-friendly print\n",
    "print(point1)  # Output: Point(2, 3)\n",
    "print(point2)  # Output: Point(4, 5)\n",
    "\n",
    "# Using the __add__ method to add two Point objects\n",
    "point3 = point1 + point2\n",
    "print(point3)  # Output: Point(6, 8)\n"
   ]
  },
  {
   "cell_type": "markdown",
   "metadata": {},
   "source": [
    "### Explanation:\n",
    "1. __ str __(self):\n",
    "- When we use print(point1), Python automatically calls point1.__str__(), which returns \"Point(2, 3)\".\n",
    "- Without overriding __str__(), the output would be a less readable format like <__main__.Point object at 0x...>. Overriding it makes the output more user-friendly.\n",
    "2. __ add __(self, other):\n",
    "- The + operator is overridden with the __add__() method. When point1 + point2 is used, Python calls point1.__add__(point2), which adds the x and y coordinates of the two points and returns a new Point object with the sum.\n",
    "- In this case, point1 has coordinates (2, 3) and point2 has coordinates (4, 5), so their sum is a new Point with coordinates (6, 8).\n",
    "\n",
    "### Key Points:\n",
    "- The __ str __ method customizes the string representation of objects, allowing you to control how objects are displayed when printed or converted to strings.\n",
    "- The __ add __ method defines how the + operator behaves between instances of a class, allowing us to add objects in a meaningful way."
   ]
  },
  {
   "cell_type": "markdown",
   "metadata": {},
   "source": [
    "## 12. Create a decorator that measures and prints the execution time of a function."
   ]
  },
  {
   "cell_type": "markdown",
   "metadata": {},
   "source": [
    "In Python, a decorator is a special function that wraps another function to extend its behavior without modifying its code. Here, we'll create a decorator that measures the execution time of a function and prints it."
   ]
  },
  {
   "cell_type": "code",
   "execution_count": 7,
   "metadata": {},
   "outputs": [
    {
     "name": "stdout",
     "output_type": "stream",
     "text": [
      "Function executed!\n",
      "Execution time of slow_function: 2.000489 seconds\n"
     ]
    }
   ],
   "source": [
    "import time\n",
    "\n",
    "# Define a decorator to measure execution time\n",
    "def measure_time(func):\n",
    "    def wrapper(*args, **kwargs):\n",
    "        start_time = time.time()  # Record the start time\n",
    "        result = func(*args, **kwargs)  # Call the original function\n",
    "        end_time = time.time()  # Record the end time\n",
    "        execution_time = end_time - start_time  # Calculate execution time\n",
    "        print(f\"Execution time of {func.__name__}: {execution_time:.6f} seconds\")\n",
    "        return result\n",
    "    return wrapper\n",
    "\n",
    "# Example function to demonstrate the decorator\n",
    "@measure_time\n",
    "def slow_function():\n",
    "    time.sleep(2)  # Simulates a time-consuming task\n",
    "    print(\"Function executed!\")\n",
    "\n",
    "# Example usage:\n",
    "slow_function()\n"
   ]
  },
  {
   "cell_type": "markdown",
   "metadata": {},
   "source": [
    "### Explanation:\n",
    "1. measure_time(func):\n",
    "    This is the decorator function that accepts the function func to be wrapped. Inside it, a wrapper function is defined, which will wrap the original function.\n",
    "2. wrapper(*args, **kwargs):    \n",
    "    The wrapper function accepts any number of arguments (*args) and keyword arguments (**kwargs) and passes them to the original function func. It uses time.time() to capture the start and end times of the function's execution and calculates the duration.\n",
    "3. Execution Time:\n",
    "    The difference between the end time and start time gives the execution duration, which is printed in seconds.\n",
    "4. @measure_time:\n",
    "    This decorator is applied to the slow_function() by using the @ symbol, making it easy to apply the decorator without altering the function code.\n",
    "5. The .6f is a format specifier used within an f-string to control the formatting of the execution_time variable (which is a floating-point number). Here's what it means:\n",
    "    - . (dot): The dot separates the whole number part from the fractional part of the floating-point number.\n",
    "    - 6: This specifies that 6 digits should be displayed after the decimal point.\n",
    "    - f: The f stands for floating-point number. This tells Python to format the number as a float (i.e., a number with a decimal point).\n",
    "    - So, .6f means: Display the floating-point number (execution_time) with 6 decimal places.\n",
    "    - Example:     \n",
    "     If execution_time = 2.000123456, using :.6f will round it to: 2.000123 seconds    "
   ]
  },
  {
   "cell_type": "markdown",
   "metadata": {},
   "source": [
    "## 13. Explain the concept of the Diamond Problem in multiple inheritance. How does Python resolve it?"
   ]
  },
  {
   "cell_type": "markdown",
   "metadata": {},
   "source": [
    "The Diamond Problem is an issue that can arise in languages that support multiple inheritance, such as Python. It occurs when a class inherits from two or more classes that have a common ancestor. This can lead to ambiguity about which class’s method or attribute should be called or used.\n",
    "\n",
    "__Diamond Problem Structure:__\n",
    "- Class A is the common base class.\n",
    "- Both classes B and C inherit from A.\n",
    "- Class D inherits from both B and C.\n",
    "- Now, if class D tries to access a method or attribute from class A, there's ambiguity about whether it should inherit from B's version of A or C's version of A.\n",
    "- This situation forms a diamond shape in the inheritance diagram, hence the name \"Diamond Problem.\"\n",
    "\n",
    "### How Python Resolves the Diamond Problem\n",
    "- Python resolves the Diamond Problem using a feature called Method Resolution Order (MRO), which is based on the C3 linearization algorithm. The MRO determines the order in which Python searches for methods and attributes in the class hierarchy. It ensures that each class in the hierarchy is visited only once, even if it appears multiple times due to inheritance.\n",
    "\n",
    "- When you call a method on an object, Python follows the MRO to decide in which order to check the parent classes for the method or attribute.\n"
   ]
  },
  {
   "cell_type": "code",
   "execution_count": 8,
   "metadata": {},
   "outputs": [
    {
     "name": "stdout",
     "output_type": "stream",
     "text": [
      "Method from class B\n"
     ]
    }
   ],
   "source": [
    "# Example of the Diamond Problem in Python:\n",
    "\n",
    "class A:\n",
    "    def show(self):\n",
    "        print(\"Method from class A\")\n",
    "\n",
    "class B(A):\n",
    "    def show(self):\n",
    "        print(\"Method from class B\")\n",
    "\n",
    "class C(A):\n",
    "    def show(self):\n",
    "        print(\"Method from class C\")\n",
    "\n",
    "class D(B, C):\n",
    "    pass\n",
    "\n",
    "# Creating an object of class D\n",
    "d = D()\n",
    "d.show()\n"
   ]
  },
  {
   "cell_type": "markdown",
   "metadata": {},
   "source": [
    "### Explanation:\n",
    "- Class D inherits from both B and C, and both B and C inherit from A.\n",
    "- All classes (A, B, C) have a show() method.\n",
    "- When we create an instance of D and call d.show(), Python needs to resolve which version of the show() method should be called (B’s, C’s, or A’s).\n",
    "- In this case, D first checks B's show() method (because B is listed first in the inheritance list of D), so it calls B's version of the method."
   ]
  },
  {
   "cell_type": "markdown",
   "metadata": {},
   "source": [
    "## 14. Write a class method that keeps track of the number of instances created from a class."
   ]
  },
  {
   "cell_type": "code",
   "execution_count": 9,
   "metadata": {},
   "outputs": [
    {
     "name": "stdout",
     "output_type": "stream",
     "text": [
      "3\n"
     ]
    }
   ],
   "source": [
    "class MyClass:\n",
    "    # Class variable to count the number of instances\n",
    "    instance_count = 0\n",
    "\n",
    "    def __init__(self):\n",
    "        # Increment the instance count whenever a new instance is created\n",
    "        MyClass.instance_count += 1\n",
    "\n",
    "    # Class method to return the current count of instances\n",
    "    @classmethod\n",
    "    def get_instance_count(cls):\n",
    "        return cls.instance_count\n",
    "\n",
    "# Example usage:\n",
    "obj1 = MyClass()  # Creating the first instance\n",
    "obj2 = MyClass()  # Creating the second instance\n",
    "obj3 = MyClass()  # Creating the third instance\n",
    "\n",
    "# Retrieve the count of instances using the class method\n",
    "print(MyClass.get_instance_count())  # Output: 3\n"
   ]
  },
  {
   "cell_type": "markdown",
   "metadata": {},
   "source": [
    "### Explanation:\n",
    "- Class Variable instance_count:\n",
    "    - The variable instance_count is a class-level variable, meaning it is shared across all instances of the class.\n",
    "    - It starts at 0 and is incremented every time the constructor (__init__) is called, indicating a new instance has been created.\n",
    "- __init__(self):\n",
    "    - This is the constructor method, which is executed every time an instance of MyClass is created. Inside this method, the class variable instance_count is incremented by 1.\n",
    "- @classmethod get_instance_count(cls):\n",
    "    - This is a class method that can be called using the class itself (MyClass.get_instance_count()).\n",
    "    - It takes cls as its first argument, which refers to the class, and returns the current value of instance_count.\n",
    "- Creating Instances:\n",
    "    - Each time an instance (obj1, obj2, obj3) is created, the __init__ method increments the instance_count by 1.\n",
    "- Checking the Count:\n",
    "    - The class method get_instance_count() is used to retrieve the total number of instances created so far. In this example, the output will be 3 after creating three instances."
   ]
  },
  {
   "cell_type": "markdown",
   "metadata": {},
   "source": [
    "## 15. Implement a static method in a class that checks if a given year is a leap year."
   ]
  },
  {
   "cell_type": "markdown",
   "metadata": {},
   "source": [
    "In Python, a __*static method*__ is a method that doesn’t depend on instance or class attributes. It is defined using the @staticmethod decorator and doesn’t take self or cls as its first parameter. Static methods are used when you want to perform an operation that doesn't need access to the instance or class.              \n",
    "\n",
    "Let’s implement a static method that checks whether a given year is a leap year or not."
   ]
  },
  {
   "cell_type": "code",
   "execution_count": 10,
   "metadata": {},
   "outputs": [
    {
     "name": "stdout",
     "output_type": "stream",
     "text": [
      "True\n",
      "False\n",
      "True\n",
      "True\n"
     ]
    }
   ],
   "source": [
    "class Year:\n",
    "    @staticmethod\n",
    "    def is_leap_year(year):\n",
    "        # Check if the year is a leap year\n",
    "        if (year % 4 == 0):\n",
    "            return True\n",
    "        else:\n",
    "            return False\n",
    "\n",
    "# Example usage:\n",
    "print(Year.is_leap_year(2020))  # Output: True (2020 is a leap year)\n",
    "print(Year.is_leap_year(2021))  # Output: False (2021 is not a leap year)\n",
    "print(Year.is_leap_year(1900))  # Output: False (1900 is not a leap year)\n",
    "print(Year.is_leap_year(2000))  # Output: True (2000 is a leap year)\n"
   ]
  },
  {
   "cell_type": "markdown",
   "metadata": {},
   "source": [
    "### Explanation:\n",
    "- __@staticmethod:__\n",
    "    - The method is_leap_year() is defined as a static method using the @staticmethod decorator.\n",
    "    - Static methods do not require access to the instance (self) or class (cls) and can be called directly on the class itself.\n",
    "- __is_leap_year(year):__\n",
    "    - This method takes a year as input and checks if it is a leap year.\n",
    "    - A leap year is determined by the following conditions:\n",
    "        - The year is divisible by 4.\n",
    "        - If the year is divisible by 100, it should also be divisible by 400 to be a leap year.\n",
    "- __Checking for Leap Year:__\n",
    "    - The method checks the given conditions:\n",
    "        - If the year is divisible by 4 and not divisible by 100, or divisible by 400, then it is a leap year.\n",
    "    - It returns True if the year is a leap year, otherwise False."
   ]
  }
 ],
 "metadata": {
  "kernelspec": {
   "display_name": "Python 3",
   "language": "python",
   "name": "python3"
  },
  "language_info": {
   "codemirror_mode": {
    "name": "ipython",
    "version": 3
   },
   "file_extension": ".py",
   "mimetype": "text/x-python",
   "name": "python",
   "nbconvert_exporter": "python",
   "pygments_lexer": "ipython3",
   "version": "3.12.4"
  }
 },
 "nbformat": 4,
 "nbformat_minor": 2
}
